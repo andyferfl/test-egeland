{
 "cells": [
  {
   "cell_type": "markdown",
   "metadata": {},
   "source": [
    "Загружаем нужные библиотеки и таблицы"
   ]
  },
  {
   "cell_type": "code",
   "execution_count": 1,
   "metadata": {},
   "outputs": [
    {
     "name": "stderr",
     "output_type": "stream",
     "text": [
      "C:\\Users\\andvi\\AppData\\Local\\Temp\\ipykernel_48940\\2767668711.py:6: UserWarning: pandas only supports SQLAlchemy connectable (engine/connection) or database string URI or sqlite3 DBAPI2 connection. Other DBAPI2 objects are not tested. Please consider using SQLAlchemy.\n",
      "  df_messages = pd.read_sql('select * from test.chat_messages', con=engine)\n",
      "C:\\Users\\andvi\\AppData\\Local\\Temp\\ipykernel_48940\\2767668711.py:7: UserWarning: pandas only supports SQLAlchemy connectable (engine/connection) or database string URI or sqlite3 DBAPI2 connection. Other DBAPI2 objects are not tested. Please consider using SQLAlchemy.\n",
      "  df_managers = pd.read_sql('select * from test.managers', con=engine)\n",
      "C:\\Users\\andvi\\AppData\\Local\\Temp\\ipykernel_48940\\2767668711.py:8: UserWarning: pandas only supports SQLAlchemy connectable (engine/connection) or database string URI or sqlite3 DBAPI2 connection. Other DBAPI2 objects are not tested. Please consider using SQLAlchemy.\n",
      "  df_leaders = pd.read_sql('select * from test.rops', con=engine)\n"
     ]
    }
   ],
   "source": [
    "import pandas as pd\n",
    "import psycopg2 as pg\n",
    "import numpy as np\n",
    "\n",
    "engine = pg.connect(\"dbname='db1' user='test_user' host='rc1a-p8bp15mmxsfwpbt0.mdb.yandexcloud.net' port='6432' password='j2M{CnnFq@'\")\n",
    "df_messages = pd.read_sql('select * from test.chat_messages', con=engine)\n",
    "df_managers = pd.read_sql('select * from test.managers', con=engine)\n",
    "df_leaders = pd.read_sql('select * from test.rops', con=engine)"
   ]
  },
  {
   "cell_type": "markdown",
   "metadata": {},
   "source": [
    "Добавляем столбец с предыдушим типом сообщении"
   ]
  },
  {
   "cell_type": "code",
   "execution_count": 2,
   "metadata": {},
   "outputs": [],
   "source": [
    "df_messages['prev_type'] = (\n",
    "    df_messages.sort_values(by=['entity_id', 'created_at'])\n",
    "    .groupby('entity_id')['type']\n",
    "    .shift()\n",
    ")"
   ]
  },
  {
   "cell_type": "markdown",
   "metadata": {},
   "source": [
    "Фильтруем сообщения и оставим только первые сообщения каждого блока"
   ]
  },
  {
   "cell_type": "code",
   "execution_count": 3,
   "metadata": {},
   "outputs": [],
   "source": [
    "conditions = (\n",
    "    ((df_messages['type'] == 'incoming_chat_message') & \n",
    "     ((df_messages['prev_type'].isnull()) | (df_messages['prev_type'] != 'incoming_chat_message'))) |\n",
    "    ((df_messages['type'] == 'outgoing_chat_message') & \n",
    "     ((df_messages['prev_type'].isnull()) | (df_messages['prev_type'] != 'outgoing_chat_message')))\n",
    ")\n",
    "first_messages = df_messages[conditions].copy()"
   ]
  },
  {
   "cell_type": "markdown",
   "metadata": {},
   "source": [
    "Добавляем столбец чтобы обслеживать время получении сообщении от клиента"
   ]
  },
  {
   "cell_type": "code",
   "execution_count": 4,
   "metadata": {},
   "outputs": [],
   "source": [
    "first_messages['prev_created_at'] = (\n",
    "    first_messages.sort_values(by=['entity_id', 'created_at'])\n",
    "    .groupby('entity_id')['created_at']\n",
    "    .shift()\n",
    ")"
   ]
  },
  {
   "cell_type": "markdown",
   "metadata": {},
   "source": [
    "Создаем функцию чтобы считать время ответа в секундах"
   ]
  },
  {
   "cell_type": "code",
   "execution_count": null,
   "metadata": {},
   "outputs": [],
   "source": [
    "def calculate_response_time(row):\n",
    "    if pd.isnull(row['prev_created_at']):\n",
    "        return np.nan\n",
    "    \n",
    "    # настроим столбца с датами чтобы работать с ними\n",
    "    prev_created_at = pd.to_datetime(row['prev_created_at'], unit='s')\n",
    "    created_at = pd.to_datetime(row['created_at'], unit='s')\n",
    "\n",
    "    prev_time = prev_created_at.tz_localize('UTC').tz_convert('Europe/Moscow')\n",
    "    cur_time = created_at.tz_localize('UTC').tz_convert('Europe/Moscow')\n",
    "    \n",
    "    # время получения сообщения от клиента в промежутке от 00:00:00 до 09:30:00\n",
    "    if prev_time.time() < pd.Timestamp('09:30:00').time():\n",
    "        start_of_day = pd.Timestamp(prev_time.date()).tz_localize('Europe/Moscow')\n",
    "        seconds_after_midnight = (prev_time - start_of_day).total_seconds()\n",
    "        adjustment = (9 * 3600 + 30 * 60) - seconds_after_midnight\n",
    "        return (cur_time - prev_time).total_seconds() - adjustment\n",
    "    \n",
    "    # разница между дата получения сообщения и дата ответа >= 1\n",
    "    elif (cur_time.date() - prev_time.date()).days >= 1:\n",
    "        days_diff = (cur_time.date() - prev_time.date()).days\n",
    "        return (cur_time - prev_time).total_seconds() - (days_diff * (9 * 3600 + 30 * 60))\n",
    "    \n",
    "    else:\n",
    "        return (cur_time - prev_time).total_seconds()"
   ]
  },
  {
   "cell_type": "markdown",
   "metadata": {},
   "source": [
    "Считаем время ответа менеджеров"
   ]
  },
  {
   "cell_type": "code",
   "execution_count": 8,
   "metadata": {},
   "outputs": [],
   "source": [
    "first_messages['response_time'] = first_messages.apply(calculate_response_time, axis=1)\n",
    "response_times = first_messages[\n",
    "    (first_messages['type'] == 'outgoing_chat_message') &\n",
    "    (first_messages['prev_type'].notnull())\n",
    "].copy()"
   ]
  },
  {
   "cell_type": "markdown",
   "metadata": {},
   "source": [
    "Собираем все нужные данные из остальных таблиц"
   ]
  },
  {
   "cell_type": "code",
   "execution_count": 10,
   "metadata": {},
   "outputs": [],
   "source": [
    "df_managers['rop_id'] = df_managers['rop_id'].astype(int)\n",
    "df_leaders['rop_id'] = df_leaders['rop_id'].astype(int)\n",
    "df_merged = (\n",
    "    response_times.merge(df_managers, left_on='created_by', right_on='mop_id')\n",
    "    .merge(df_leaders, left_on='rop_id', right_on='rop_id')\n",
    ")"
   ]
  },
  {
   "cell_type": "markdown",
   "metadata": {},
   "source": [
    "считаем среднее время ответа менеджеров"
   ]
  },
  {
   "cell_type": "code",
   "execution_count": 11,
   "metadata": {},
   "outputs": [],
   "source": [
    "df_result = (\n",
    "    df_merged[df_merged['response_time'] > 0]\n",
    "    .groupby(['mop_id', 'name_mop', 'rop_name'], as_index=False)\n",
    "    .agg(avg_response_time=('response_time', 'mean'))\n",
    "    .rename(columns={'mop_id': 'manager_id', 'name_mop': 'manager_name', 'rop_name': 'responsible_name'})\n",
    ")"
   ]
  },
  {
   "cell_type": "code",
   "execution_count": 12,
   "metadata": {},
   "outputs": [
    {
     "name": "stdout",
     "output_type": "stream",
     "text": [
      "    manager_id         manager_name responsible_name  avg_response_time\n",
      "0      6645315       Гюнель и Илина         Катя РОП         516.302682\n",
      "1      6744792         Юля и Наташа         Катя РОП         567.625296\n",
      "2      6780177          Даша и Даша       Полина РОП         237.420000\n",
      "3      7408305        Влада и Настя          Эля РОП         282.826087\n",
      "4      7417617     Порхачева Полина          Эля РОП         502.214286\n",
      "5      7996770           Лиза и Ева       Полина РОП         357.014577\n",
      "6      8558094          Алина и Юля          Эля РОП         273.482609\n",
      "7     10262485          Соня и Катя       Полина РОП         899.405204\n",
      "8     10262493          Ками и Мила          Эля РОП         468.591111\n",
      "9     10262497         Мария и Соня       Полина РОП         318.015464\n",
      "10    10262513           Ира и Варя         Катя РОП        1199.651261\n",
      "11    10465254         Настя и Даша         Катя РОП         211.225309\n",
      "12    10465690       Настя и Малика          Эля РОП         335.068548\n",
      "13    11188802         Даша и Влада       Полина РОП         854.140794\n",
      "14    11241942        Даша и Карина          Эля РОП         455.351724\n",
      "15    11394126       Полина Мирзоян          Эля РОП         625.583333\n",
      "16    11394130         Настя и Саша       Полина РОП         349.377551\n",
      "17    11394134         Софья Боднар          Эля РОП         522.782178\n",
      "18    11448610          Вика и Катя         Катя РОП         771.309546\n",
      "19    11490270          Аня и Ксюша         Катя РОП         825.567188\n",
      "20    11490278      Ксюша и Джамиля         Катя РОП         737.393382\n",
      "21    11550890  Ангелина Милованова          Эля РОП         365.737705\n"
     ]
    }
   ],
   "source": [
    "print(df_result)"
   ]
  }
 ],
 "metadata": {
  "kernelspec": {
   "display_name": ".venv",
   "language": "python",
   "name": "python3"
  },
  "language_info": {
   "codemirror_mode": {
    "name": "ipython",
    "version": 3
   },
   "file_extension": ".py",
   "mimetype": "text/x-python",
   "name": "python",
   "nbconvert_exporter": "python",
   "pygments_lexer": "ipython3",
   "version": "3.11.9"
  }
 },
 "nbformat": 4,
 "nbformat_minor": 2
}
